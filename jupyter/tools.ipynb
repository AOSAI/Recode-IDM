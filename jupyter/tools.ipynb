{
 "cells": [
  {
   "cell_type": "code",
   "execution_count": 5,
   "id": "bf6f3c49",
   "metadata": {},
   "outputs": [
    {
     "name": "stdout",
     "output_type": "stream",
     "text": [
      "{'image_size': 64, 'num_channels': 128, 'num_res_blocks': 2, 'num_heads': 4, 'num_heads_upsample': -1, 'learn_sigma': False, 'class_cond': False, 'use_checkpoint': False, 'attention_resolutions': '16,8', 'use_scale_shift_norm': True, 'dropout': 0.1}\n",
      "{'steps': 1000, 'learn_sigma': True, 'sigma_small': False, 'noise_schedule': 'linear', 'use_kl': False, 'predict_xstart': False, 'rescale_timesteps': True, 'rescale_learned_sigmas': True, 'timestep_respacing': ''}\n",
      "{'clip_denoised': True, 'num_samples': 10000, 'batch_size': 16, 'use_ddim': False, 'model_path': ''}\n"
     ]
    }
   ],
   "source": [
    "import yaml\n",
    "\n",
    "def load_config(path):\n",
    "    with open(path, 'r') as f:\n",
    "        config = yaml.safe_load(f)\n",
    "    return config\n",
    "\n",
    "config = load_config(\"../public/configs/sample_configs.yaml\")\n",
    "model_config = config['model']\n",
    "diffusion_config = config['diffusion']\n",
    "sampling_config = config['sampling']\n",
    "\n",
    "print(model_config)\n",
    "print(diffusion_config)\n",
    "print(sampling_config)"
   ]
  }
 ],
 "metadata": {
  "kernelspec": {
   "display_name": "pytorch_2.4",
   "language": "python",
   "name": "python3"
  },
  "language_info": {
   "codemirror_mode": {
    "name": "ipython",
    "version": 3
   },
   "file_extension": ".py",
   "mimetype": "text/x-python",
   "name": "python",
   "nbconvert_exporter": "python",
   "pygments_lexer": "ipython3",
   "version": "3.12.0"
  }
 },
 "nbformat": 4,
 "nbformat_minor": 5
}
