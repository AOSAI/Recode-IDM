{
 "cells": [
  {
   "cell_type": "code",
   "execution_count": 5,
   "id": "bf6f3c49",
   "metadata": {},
   "outputs": [
    {
     "name": "stdout",
     "output_type": "stream",
     "text": [
      "{'image_size': 64, 'num_channels': 128, 'num_res_blocks': 2, 'num_heads': 4, 'num_heads_upsample': -1, 'learn_sigma': False, 'class_cond': False, 'use_checkpoint': False, 'attention_resolutions': '16,8', 'use_scale_shift_norm': True, 'dropout': 0.1}\n",
      "{'steps': 1000, 'learn_sigma': True, 'sigma_small': False, 'noise_schedule': 'linear', 'use_kl': False, 'predict_xstart': False, 'rescale_timesteps': True, 'rescale_learned_sigmas': True, 'timestep_respacing': ''}\n",
      "{'clip_denoised': True, 'num_samples': 10000, 'batch_size': 16, 'use_ddim': False, 'model_path': ''}\n"
     ]
    }
   ],
   "source": [
    "import yaml\n",
    "\n",
    "def load_config(path):\n",
    "    with open(path, 'r') as f:\n",
    "        config = yaml.safe_load(f)\n",
    "    return config\n",
    "\n",
    "config = load_config(\"../public/configs/sample_configs.yaml\")\n",
    "model_config = config['model']\n",
    "diffusion_config = config['diffusion']\n",
    "sampling_config = config['sampling']\n",
    "\n",
    "print(model_config)\n",
    "print(diffusion_config)\n",
    "print(sampling_config)"
   ]
  },
  {
   "cell_type": "code",
   "execution_count": 5,
   "id": "96dc2126",
   "metadata": {},
   "outputs": [
    {
     "name": "stdout",
     "output_type": "stream",
     "text": [
      "222 -  000000\n",
      "222 -  000050\n",
      "222 -  000500\n"
     ]
    },
    {
     "data": {
      "text/plain": [
       "500"
      ]
     },
     "execution_count": 5,
     "metadata": {},
     "output_type": "execute_result"
    }
   ],
   "source": [
    "def parse_resume_step_from_filename(filename):\n",
    "    \"\"\" 解析格式为 path/to/modelNNN.pt 的文件名, NNN 是检查点的步数 \"\"\"\n",
    "    split = filename.split(\"model\")\n",
    "    if len(split) < 2:\n",
    "        print(\"111 - \", split)\n",
    "        return 0\n",
    "    split1 = split[-1].split(\".\")[0]\n",
    "    try:\n",
    "        print(\"222 - \", split1)\n",
    "        return int(split1)\n",
    "    except ValueError:\n",
    "        return 0\n",
    "    \n",
    "parse_resume_step_from_filename(\"model000000.pt\")\n",
    "parse_resume_step_from_filename(\"model000050.pt\")\n",
    "parse_resume_step_from_filename(\"model000500.pt\")\n",
    "# parse_resume_step_from_filename(\"model005000.pt\")"
   ]
  },
  {
   "cell_type": "code",
   "execution_count": 7,
   "id": "70dfc586",
   "metadata": {},
   "outputs": [
    {
     "name": "stdout",
     "output_type": "stream",
     "text": [
      "model005000.pt\n",
      "005000\n"
     ]
    },
    {
     "data": {
      "text/plain": [
       "5000"
      ]
     },
     "execution_count": 7,
     "metadata": {},
     "output_type": "execute_result"
    }
   ],
   "source": [
    "import re\n",
    "\n",
    "def parse_resume_step_from_filename(filename):\n",
    "    match = re.search(r'model(\\d+)\\.pt$', filename)\n",
    "    print(match.group(0))\n",
    "    print(match.group(1))\n",
    "    if match:\n",
    "        return int(match.group(1))\n",
    "    return 0\n",
    "\n",
    "parse_resume_step_from_filename(\"D:\\\\Dataset-Drawing\\\\guided-diffusion\\\\log\\\\0401-01\\\\model005000.pt\")"
   ]
  }
 ],
 "metadata": {
  "kernelspec": {
   "display_name": "pytorch_2.4",
   "language": "python",
   "name": "python3"
  },
  "language_info": {
   "codemirror_mode": {
    "name": "ipython",
    "version": 3
   },
   "file_extension": ".py",
   "mimetype": "text/x-python",
   "name": "python",
   "nbconvert_exporter": "python",
   "pygments_lexer": "ipython3",
   "version": "3.12.0"
  }
 },
 "nbformat": 4,
 "nbformat_minor": 5
}
